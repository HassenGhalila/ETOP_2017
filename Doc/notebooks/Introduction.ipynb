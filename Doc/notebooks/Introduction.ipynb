{
 "cells": [
  {
   "cell_type": "markdown",
   "metadata": {},
   "source": [
    "# Introduction to scientific programming\n",
    "<span style=\"color:blue; font-family:Georgia; font-size:1.5em;\">Ahmed Ammar and Hassen Ghalila</span>\n",
    "\n",
    "<span style=\"color:blue; font-family:Georgia; font-size:1em;\">Tunis Faculty of Sciences, University of Tunis El Manar- Tunisia</span>"
   ]
  },
  {
   "cell_type": "code",
   "execution_count": 1,
   "metadata": {
    "collapsed": false
   },
   "outputs": [
    {
     "name": "stdout",
     "output_type": "stream",
     "text": [
      "Tue May 16 14:30:43 2017\n"
     ]
    }
   ],
   "source": [
    "# This gives the last run:\n",
    "import time\n",
    "print(time.ctime())"
   ]
  },
  {
   "cell_type": "markdown",
   "metadata": {},
   "source": [
    "## Python language "
   ]
  },
  {
   "cell_type": "markdown",
   "metadata": {},
   "source": [
    "\n",
    "[Python] (http://www.python.org/) is a modern object oriented programming language dedicated to general use.\n",
    "\n",
    "General characteristics of Python:\n",
    "\n",
    "* ** Simple: ** Easy to read and easy to learn with a minimalist syntax.\n",
    "* ** Concise and expressive: ** less lines of code with less bugs and easier to sustain.\n",
    "\n",
    "Technical details:\n",
    "\n",
    "* ** Dynamically Typed Language: ** No need to define the variable types, the argument types or the function types.\n",
    "* ** Automatic Memory Management: ** No need to explicitely allocate or deallocate the memory for variables and arrays. Python automatically manage bugs.\n",
    "* ** Interpreted: ** No compilation needed, Python interprets and runs directely line codes.\n",
    "\n",
    "### Advantages\n",
    "\n",
    "* The main advantage is the easy of programming and flexibility of use that minimize the time needed to develop, debug and maintain the code.\n",
    "* Language well conceived that push the developer toward the good programming practices:\n",
    "    * Modular, oriented object, allows the encapsulation and the reuse of the codes. This often results in a more transparent, maintanable and bug-free code.\n",
    "    * Documentation and command helps well implemented \n",
    "* Many standard libraries and packages add-on.\n",
    "\n",
    "### Disadvantages\n",
    "\n",
    "* Since Python is a dynamically typed and interpreted programming language, execution of python code can be slow compared to other languages such as C and Fortran. This could be bypassed by generating the app.\n",
    "* Global contributors make it highly decentralized with many libraries, environments and documentations. This could make it difficult to start. "
   ]
  },
  {
   "cell_type": "markdown",
   "metadata": {},
   "source": [
    "## Installating Python environment"
   ]
  },
  {
   "cell_type": "markdown",
   "metadata": {},
   "source": [
    "[Anaconda CE](http://continuum.io/downloads.html). Anaconda Community Edition is free."
   ]
  },
  {
   "cell_type": "markdown",
   "metadata": {},
   "source": [
    "## Documents and websites for Python\n",
    "\n",
    "* [Python](http://www.python.org) :  The official Python website.\n",
    "* [Python tutorials](https://docs.python.org/3.6/tutorial/) : The official Python tutorials.\n",
    "* [Think Python](http://www.greenteapress.com/thinkpython) : ''How to Think Like a Computer Scientist'' by Allen B. Downey (free book).\n",
    "* [Python Course](http://python-course.eu/python3_course.php) : This website contains a free and extensive online tutorial by Bernd Klein, well suited for self-learning. \n",
    "<!--- However, you can attend one of his Python courses in Paris, London, Toronto, Berlin, Frankfurt, Hamburg Munich or Lake Constance.-->"
   ]
  },
  {
   "cell_type": "markdown",
   "metadata": {},
   "source": [
    "## Github lessons \n",
    "- [\"Scientific Python Lectures\"](https://github.com/jrjohansson/scientific-python-lectures) by  Robert Johansson\n",
    "- [\"Anatomy Of Matplotlib\"](https://github.com/WeatherGod/AnatomyOfMatplotlib) by  Benjamin Root\n",
    "- [\"Python-lectures-Notebooks\"](https://github.com/Morisset/Python-lectures-Notebooks) by Christophe Morisset"
   ]
  },
  {
   "cell_type": "markdown",
   "metadata": {},
   "source": [
    "## Python version and libraries"
   ]
  },
  {
   "cell_type": "code",
   "execution_count": 2,
   "metadata": {
    "collapsed": false
   },
   "outputs": [
    {
     "name": "stdout",
     "output_type": "stream",
     "text": [
      "\t\t Current System\n",
      "System :\t\t darwin\n",
      "Darwin-13.4.0-x86_64-i386-64bit\n",
      "Computer:\t\t x86_64\n",
      "Python version:\t 3.5.1 |Anaconda 4.1.0 (x86_64)| (default, Jun 15 2016, 16:14:02) \n",
      "[GCC 4.2.1 Compatible Apple LLVM 4.2 (clang-425.0.28)]\n",
      "IPython version:\t 4.2.0\n",
      "Numpy version:\t 1.11.0\n",
      "Scipy version:\t 0.17.1\n",
      "Matplotlib version:\t 1.5.1\n"
     ]
    }
   ],
   "source": [
    "print (\"\\t\\t Current System\")\n",
    "import sys\n",
    "print(\"System :\\t\\t\",sys.platform)\n",
    "import platform\n",
    "print(platform.platform())\n",
    "print(\"Computer:\\t\\t\",platform.machine())\n",
    "print(\"Python version:\\t\",sys.version)\n",
    "import IPython\n",
    "print(\"IPython version:\\t\",IPython.__version__)\n",
    "import numpy\n",
    "print(\"Numpy version:\\t\",numpy.version.version)\n",
    "import scipy\n",
    "print(\"Scipy version:\\t\",scipy.version.version)\n",
    "import matplotlib\n",
    "print(\"Matplotlib version:\\t\",matplotlib.__version__)"
   ]
  },
  {
   "cell_type": "code",
   "execution_count": null,
   "metadata": {
    "collapsed": true
   },
   "outputs": [],
   "source": []
  }
 ],
 "metadata": {
  "kernelspec": {
   "display_name": "Python [Root]",
   "language": "python",
   "name": "Python [Root]"
  },
  "language_info": {
   "codemirror_mode": {
    "name": "ipython",
    "version": 3
   },
   "file_extension": ".py",
   "mimetype": "text/x-python",
   "name": "python",
   "nbconvert_exporter": "python",
   "pygments_lexer": "ipython3",
   "version": "3.5.1"
  },
  "widgets": {
   "state": {},
   "version": "1.1.2"
  }
 },
 "nbformat": 4,
 "nbformat_minor": 2
}
